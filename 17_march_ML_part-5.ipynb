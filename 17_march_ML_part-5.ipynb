{
 "cells": [
  {
   "cell_type": "markdown",
   "id": "ca139c87-10de-410c-b593-6859b009dc50",
   "metadata": {},
   "source": [
    "## Hadling Outliers\n",
    "\n",
    "# 5 number summary\n",
    "\n",
    "1.Minimum Value\n",
    "2.Q1-25 percentile\n",
    "3.Median\n",
    "4.Q3-75 percentile\n",
    "5. Maximum"
   ]
  },
  {
   "cell_type": "code",
   "execution_count": 3,
   "id": "493de7f1-a4bb-46b1-b230-c5bd5e6cad04",
   "metadata": {},
   "outputs": [],
   "source": [
    "import numpy as np\n",
    "lst_marks=[45,32,56,75,89,54,32,89,90,87,67,54,45,98,67,74,1000,1100]"
   ]
  },
  {
   "cell_type": "code",
   "execution_count": 6,
   "id": "3d5f2dd5-cb65-4d3e-a280-76b68f9e38ed",
   "metadata": {},
   "outputs": [
    {
     "data": {
      "text/plain": [
       "array([1100.])"
      ]
     },
     "execution_count": 6,
     "metadata": {},
     "output_type": "execute_result"
    }
   ],
   "source": [
    "np.percentile(lst_marks,[100])"
   ]
  },
  {
   "cell_type": "code",
   "execution_count": 23,
   "id": "62458b0c-60de-453b-b429-243eb69b15ab",
   "metadata": {},
   "outputs": [
    {
     "name": "stdout",
     "output_type": "stream",
     "text": [
      "[54.]\n"
     ]
    }
   ],
   "source": [
    "#3 [Lower Fence <-----> Higher Fence]\n",
    "Q1=np.percentile(lst_marks,[25])\n",
    "print(Q1)"
   ]
  },
  {
   "cell_type": "code",
   "execution_count": 19,
   "id": "dca2876d-d148-43b0-8bff-9aed1d12b58c",
   "metadata": {},
   "outputs": [],
   "source": [
    "minimum,Q1,Q2,Q3,maximum=np.quantile(lst_marks,[0,0.25,0.50,0.75,1.0])"
   ]
  },
  {
   "cell_type": "code",
   "execution_count": 20,
   "id": "c4b6fe1e-151a-4732-8de4-5cf738aa4137",
   "metadata": {},
   "outputs": [
    {
     "data": {
      "text/plain": [
       "1100.0"
      ]
     },
     "execution_count": 20,
     "metadata": {},
     "output_type": "execute_result"
    }
   ],
   "source": [
    "maximum"
   ]
  },
  {
   "cell_type": "code",
   "execution_count": 24,
   "id": "67037509-c086-41b2-bca1-a56dea1aca33",
   "metadata": {},
   "outputs": [
    {
     "name": "stdout",
     "output_type": "stream",
     "text": [
      "[35.]\n"
     ]
    }
   ],
   "source": [
    "IQR = Q3-Q1\n",
    "print(IQR)"
   ]
  },
  {
   "cell_type": "code",
   "execution_count": 25,
   "id": "958adada-d0f7-43d3-9287-d09d5eb8b40e",
   "metadata": {},
   "outputs": [],
   "source": [
    "lower_fence=Q1-1.5*(IQR)\n",
    "higher_fence=Q3+1.5*(IQR)"
   ]
  },
  {
   "cell_type": "code",
   "execution_count": 26,
   "id": "60677fe2-90a1-4fb2-9048-ef9d8893b72e",
   "metadata": {},
   "outputs": [
    {
     "data": {
      "text/plain": [
       "(array([1.5]), array([141.5]))"
      ]
     },
     "execution_count": 26,
     "metadata": {},
     "output_type": "execute_result"
    }
   ],
   "source": [
    "lower_fence,higher_fence"
   ]
  },
  {
   "cell_type": "code",
   "execution_count": 33,
   "id": "c5011988-6238-43e0-bb47-870c46467188",
   "metadata": {},
   "outputs": [
    {
     "name": "stdout",
     "output_type": "stream",
     "text": [
      "This element is not an outliers\n",
      "This element is not an outliers\n",
      "This element is not an outliers\n",
      "This element is not an outliers\n",
      "This element is not an outliers\n",
      "This element is not an outliers\n",
      "This element is not an outliers\n",
      "This element is not an outliers\n",
      "This element is not an outliers\n",
      "This element is not an outliers\n",
      "This element is not an outliers\n",
      "This element is not an outliers\n",
      "This element is not an outliers\n",
      "This element is not an outliers\n",
      "This element is not an outliers\n",
      "This element is not an outliers\n"
     ]
    },
    {
     "ename": "TypeError",
     "evalue": "list.append() takes exactly one argument (0 given)",
     "output_type": "error",
     "traceback": [
      "\u001b[0;31m---------------------------------------------------------------------------\u001b[0m",
      "\u001b[0;31mTypeError\u001b[0m                                 Traceback (most recent call last)",
      "Cell \u001b[0;32mIn[33], line 6\u001b[0m\n\u001b[1;32m      4\u001b[0m     \u001b[38;5;28mprint\u001b[39m(\u001b[38;5;124m\"\u001b[39m\u001b[38;5;124mThis element is not an outliers\u001b[39m\u001b[38;5;124m\"\u001b[39m)\n\u001b[1;32m      5\u001b[0m \u001b[38;5;28;01melse\u001b[39;00m:\n\u001b[0;32m----> 6\u001b[0m     \u001b[43moutlier\u001b[49m\u001b[38;5;241;43m.\u001b[39;49m\u001b[43mappend\u001b[49m\u001b[43m(\u001b[49m\u001b[43m)\u001b[49m\n",
      "\u001b[0;31mTypeError\u001b[0m: list.append() takes exactly one argument (0 given)"
     ]
    }
   ],
   "source": [
    "outlier=[]\n",
    "for i in lst_marks:\n",
    "    if i>=1.5 and i<=141.5:\n",
    "        print(\"This element is not an outliers\")\n",
    "    else:\n",
    "        outlier.append()"
   ]
  },
  {
   "cell_type": "code",
   "execution_count": 30,
   "id": "e32c47de-c0a5-40d2-93b9-ba4bb4d7c4a9",
   "metadata": {},
   "outputs": [
    {
     "ename": "NameError",
     "evalue": "name 'outlier' is not defined",
     "output_type": "error",
     "traceback": [
      "\u001b[0;31m---------------------------------------------------------------------------\u001b[0m",
      "\u001b[0;31mNameError\u001b[0m                                 Traceback (most recent call last)",
      "Cell \u001b[0;32mIn[30], line 1\u001b[0m\n\u001b[0;32m----> 1\u001b[0m \u001b[43moutlier\u001b[49m\n",
      "\u001b[0;31mNameError\u001b[0m: name 'outlier' is not defined"
     ]
    }
   ],
   "source": [
    "outlier"
   ]
  },
  {
   "cell_type": "code",
   "execution_count": null,
   "id": "9bce9693-3552-4e9b-8564-2ea3797763c0",
   "metadata": {},
   "outputs": [],
   "source": []
  }
 ],
 "metadata": {
  "kernelspec": {
   "display_name": "Python 3 (ipykernel)",
   "language": "python",
   "name": "python3"
  },
  "language_info": {
   "codemirror_mode": {
    "name": "ipython",
    "version": 3
   },
   "file_extension": ".py",
   "mimetype": "text/x-python",
   "name": "python",
   "nbconvert_exporter": "python",
   "pygments_lexer": "ipython3",
   "version": "3.10.8"
  }
 },
 "nbformat": 4,
 "nbformat_minor": 5
}
