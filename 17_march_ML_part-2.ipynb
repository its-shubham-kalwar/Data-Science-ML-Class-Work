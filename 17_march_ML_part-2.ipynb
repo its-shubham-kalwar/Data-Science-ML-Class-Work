{
 "cells": [
  {
   "cell_type": "markdown",
   "id": "af50cc38-f1bc-4032-b0d3-491bc5f9aedb",
   "metadata": {},
   "source": [
    "## Handling Imbalanced Dataset\n",
    " 1.Unsampling\n",
    " 2.Down Sampling"
   ]
  },
  {
   "cell_type": "code",
   "execution_count": 1,
   "id": "7d434245-6459-404b-a73f-510945301bf9",
   "metadata": {},
   "outputs": [],
   "source": [
    "## Classification -- Supervised ML"
   ]
  },
  {
   "cell_type": "code",
   "execution_count": 2,
   "id": "0f46531a-979b-46e7-83da-0891b0dcc356",
   "metadata": {},
   "outputs": [],
   "source": [
    "## output -- Categorical feature"
   ]
  },
  {
   "cell_type": "code",
   "execution_count": 3,
   "id": "81dff61f-bf9c-4afe-99c9-5a5062b22f35",
   "metadata": {},
   "outputs": [],
   "source": [
    "import numpy as np"
   ]
  },
  {
   "cell_type": "code",
   "execution_count": 4,
   "id": "ef7412f9-1563-4336-b83f-2160496a67d9",
   "metadata": {},
   "outputs": [],
   "source": [
    "import pandas as pd"
   ]
  },
  {
   "cell_type": "code",
   "execution_count": 5,
   "id": "81aac27a-00d1-43ef-a5c7-78c031f3fdbb",
   "metadata": {},
   "outputs": [],
   "source": [
    "# Set the random seed for reproducibility\n",
    "np.random.seed(123)\n",
    "\n",
    "# Create a dataframe with two classes\n",
    "n_samples = 1000\n",
    "class_0_ratio = 0.9\n",
    "n_class_0 = int(n_samples * class_0_ratio)\n",
    "n_class_l = n_samples - n_class_0"
   ]
  },
  {
   "cell_type": "code",
   "execution_count": 6,
   "id": "fe7eeb94-0bf2-4848-b879-3fae126a2dce",
   "metadata": {},
   "outputs": [
    {
     "data": {
      "text/plain": [
       "(900, 100)"
      ]
     },
     "execution_count": 6,
     "metadata": {},
     "output_type": "execute_result"
    }
   ],
   "source": [
    "n_class_0,n_class_l"
   ]
  },
  {
   "cell_type": "code",
   "execution_count": 10,
   "id": "b37920ca-6559-44f2-9022-5b7a0395b198",
   "metadata": {},
   "outputs": [],
   "source": [
    "class_0 = pd.DataFrame({\n",
    "    'feature_1': np.random.normal(loc=0, scale=1, size=n_class_0),\n",
    "    'feature_2': np.random.normal(loc=0, scale=1, size=n_class_0),\n",
    "    'target': [0] * n_class_0\n",
    "})\n",
    "\n",
    "class_1 = pd.DataFrame({\n",
    "    'feature_1': np.random.normal(loc=2, scale=1, size=n_class_l),\n",
    "    'feature_2': np.random.normal(loc=2, scale=1, size=n_class_l),\n",
    "    'target': [1] * n_class_l\n",
    "})"
   ]
  },
  {
   "cell_type": "code",
   "execution_count": 13,
   "id": "01bf3a9f-3d2b-40bb-abf8-4abe8d9c9db8",
   "metadata": {},
   "outputs": [],
   "source": [
    "df=pd.concat([class_0,class_1]).reset_index(drop=True)"
   ]
  },
  {
   "cell_type": "code",
   "execution_count": 14,
   "id": "c9b48b7e-fe75-4bb1-815e-b1b828deec17",
   "metadata": {},
   "outputs": [
    {
     "data": {
      "text/html": [
       "<div>\n",
       "<style scoped>\n",
       "    .dataframe tbody tr th:only-of-type {\n",
       "        vertical-align: middle;\n",
       "    }\n",
       "\n",
       "    .dataframe tbody tr th {\n",
       "        vertical-align: top;\n",
       "    }\n",
       "\n",
       "    .dataframe thead th {\n",
       "        text-align: right;\n",
       "    }\n",
       "</style>\n",
       "<table border=\"1\" class=\"dataframe\">\n",
       "  <thead>\n",
       "    <tr style=\"text-align: right;\">\n",
       "      <th></th>\n",
       "      <th>feature_1</th>\n",
       "      <th>feature_2</th>\n",
       "      <th>target</th>\n",
       "    </tr>\n",
       "  </thead>\n",
       "  <tbody>\n",
       "    <tr>\n",
       "      <th>0</th>\n",
       "      <td>-2.643425</td>\n",
       "      <td>-0.093436</td>\n",
       "      <td>0</td>\n",
       "    </tr>\n",
       "    <tr>\n",
       "      <th>1</th>\n",
       "      <td>-0.448991</td>\n",
       "      <td>1.650653</td>\n",
       "      <td>0</td>\n",
       "    </tr>\n",
       "    <tr>\n",
       "      <th>2</th>\n",
       "      <td>-0.358907</td>\n",
       "      <td>-0.845004</td>\n",
       "      <td>0</td>\n",
       "    </tr>\n",
       "    <tr>\n",
       "      <th>3</th>\n",
       "      <td>0.133194</td>\n",
       "      <td>0.395839</td>\n",
       "      <td>0</td>\n",
       "    </tr>\n",
       "    <tr>\n",
       "      <th>4</th>\n",
       "      <td>-0.644242</td>\n",
       "      <td>-1.342092</td>\n",
       "      <td>0</td>\n",
       "    </tr>\n",
       "  </tbody>\n",
       "</table>\n",
       "</div>"
      ],
      "text/plain": [
       "   feature_1  feature_2  target\n",
       "0  -2.643425  -0.093436       0\n",
       "1  -0.448991   1.650653       0\n",
       "2  -0.358907  -0.845004       0\n",
       "3   0.133194   0.395839       0\n",
       "4  -0.644242  -1.342092       0"
      ]
     },
     "execution_count": 14,
     "metadata": {},
     "output_type": "execute_result"
    }
   ],
   "source": [
    "df.head()"
   ]
  },
  {
   "cell_type": "code",
   "execution_count": 16,
   "id": "fe0e929f-a7df-4de1-bf09-b2b6fb0f8358",
   "metadata": {},
   "outputs": [
    {
     "data": {
      "text/plain": [
       "0    900\n",
       "1    100\n",
       "Name: target, dtype: int64"
      ]
     },
     "execution_count": 16,
     "metadata": {},
     "output_type": "execute_result"
    }
   ],
   "source": [
    "df['target'].value_counts()"
   ]
  },
  {
   "cell_type": "markdown",
   "id": "57e3ab44-7183-4b3d-a07f-cfafbd466b57",
   "metadata": {},
   "source": [
    "## Upsampling"
   ]
  },
  {
   "cell_type": "code",
   "execution_count": 22,
   "id": "994e8d6c-820a-4ec0-91c8-09bf4497b50c",
   "metadata": {},
   "outputs": [],
   "source": [
    "df_minority=df[df['target']==1]\n",
    "df_majority=df[df['target']==0]"
   ]
  },
  {
   "cell_type": "code",
   "execution_count": 19,
   "id": "0a460feb-15d3-49be-82ba-32d2a03f75b8",
   "metadata": {},
   "outputs": [
    {
     "data": {
      "text/html": [
       "<div>\n",
       "<style scoped>\n",
       "    .dataframe tbody tr th:only-of-type {\n",
       "        vertical-align: middle;\n",
       "    }\n",
       "\n",
       "    .dataframe tbody tr th {\n",
       "        vertical-align: top;\n",
       "    }\n",
       "\n",
       "    .dataframe thead th {\n",
       "        text-align: right;\n",
       "    }\n",
       "</style>\n",
       "<table border=\"1\" class=\"dataframe\">\n",
       "  <thead>\n",
       "    <tr style=\"text-align: right;\">\n",
       "      <th></th>\n",
       "      <th>feature_1</th>\n",
       "      <th>feature_2</th>\n",
       "      <th>target</th>\n",
       "    </tr>\n",
       "  </thead>\n",
       "  <tbody>\n",
       "    <tr>\n",
       "      <th>900</th>\n",
       "      <td>1.349116</td>\n",
       "      <td>0.821543</td>\n",
       "      <td>1</td>\n",
       "    </tr>\n",
       "    <tr>\n",
       "      <th>901</th>\n",
       "      <td>4.079573</td>\n",
       "      <td>1.198984</td>\n",
       "      <td>1</td>\n",
       "    </tr>\n",
       "    <tr>\n",
       "      <th>902</th>\n",
       "      <td>3.445297</td>\n",
       "      <td>1.269421</td>\n",
       "      <td>1</td>\n",
       "    </tr>\n",
       "    <tr>\n",
       "      <th>903</th>\n",
       "      <td>1.331946</td>\n",
       "      <td>2.984417</td>\n",
       "      <td>1</td>\n",
       "    </tr>\n",
       "    <tr>\n",
       "      <th>904</th>\n",
       "      <td>1.418799</td>\n",
       "      <td>0.944062</td>\n",
       "      <td>1</td>\n",
       "    </tr>\n",
       "  </tbody>\n",
       "</table>\n",
       "</div>"
      ],
      "text/plain": [
       "     feature_1  feature_2  target\n",
       "900   1.349116   0.821543       1\n",
       "901   4.079573   1.198984       1\n",
       "902   3.445297   1.269421       1\n",
       "903   1.331946   2.984417       1\n",
       "904   1.418799   0.944062       1"
      ]
     },
     "execution_count": 19,
     "metadata": {},
     "output_type": "execute_result"
    }
   ],
   "source": [
    "df_minority.head()"
   ]
  },
  {
   "cell_type": "code",
   "execution_count": 23,
   "id": "15ea2e76-64d5-48a8-b767-763786869104",
   "metadata": {},
   "outputs": [
    {
     "data": {
      "text/html": [
       "<div>\n",
       "<style scoped>\n",
       "    .dataframe tbody tr th:only-of-type {\n",
       "        vertical-align: middle;\n",
       "    }\n",
       "\n",
       "    .dataframe tbody tr th {\n",
       "        vertical-align: top;\n",
       "    }\n",
       "\n",
       "    .dataframe thead th {\n",
       "        text-align: right;\n",
       "    }\n",
       "</style>\n",
       "<table border=\"1\" class=\"dataframe\">\n",
       "  <thead>\n",
       "    <tr style=\"text-align: right;\">\n",
       "      <th></th>\n",
       "      <th>feature_1</th>\n",
       "      <th>feature_2</th>\n",
       "      <th>target</th>\n",
       "    </tr>\n",
       "  </thead>\n",
       "  <tbody>\n",
       "    <tr>\n",
       "      <th>0</th>\n",
       "      <td>-2.643425</td>\n",
       "      <td>-0.093436</td>\n",
       "      <td>0</td>\n",
       "    </tr>\n",
       "    <tr>\n",
       "      <th>1</th>\n",
       "      <td>-0.448991</td>\n",
       "      <td>1.650653</td>\n",
       "      <td>0</td>\n",
       "    </tr>\n",
       "    <tr>\n",
       "      <th>2</th>\n",
       "      <td>-0.358907</td>\n",
       "      <td>-0.845004</td>\n",
       "      <td>0</td>\n",
       "    </tr>\n",
       "    <tr>\n",
       "      <th>3</th>\n",
       "      <td>0.133194</td>\n",
       "      <td>0.395839</td>\n",
       "      <td>0</td>\n",
       "    </tr>\n",
       "    <tr>\n",
       "      <th>4</th>\n",
       "      <td>-0.644242</td>\n",
       "      <td>-1.342092</td>\n",
       "      <td>0</td>\n",
       "    </tr>\n",
       "  </tbody>\n",
       "</table>\n",
       "</div>"
      ],
      "text/plain": [
       "   feature_1  feature_2  target\n",
       "0  -2.643425  -0.093436       0\n",
       "1  -0.448991   1.650653       0\n",
       "2  -0.358907  -0.845004       0\n",
       "3   0.133194   0.395839       0\n",
       "4  -0.644242  -1.342092       0"
      ]
     },
     "execution_count": 23,
     "metadata": {},
     "output_type": "execute_result"
    }
   ],
   "source": [
    "df_majority.head()"
   ]
  },
  {
   "cell_type": "code",
   "execution_count": 24,
   "id": "42981529-7db1-43bd-b8dd-ad645e6cf87e",
   "metadata": {},
   "outputs": [],
   "source": [
    "## Upsampling perform \n",
    "from sklearn.utils import resample"
   ]
  },
  {
   "cell_type": "code",
   "execution_count": 27,
   "id": "a618bfbd-f272-4bc8-8e4a-e9b9c2c2b2ad",
   "metadata": {},
   "outputs": [],
   "source": [
    "df_minority_upsample=resample(df_minority, \n",
    "                            replace=True, ## Sample with replacement\n",
    "                            n_samples=len(df_majority),\n",
    "                            random_state=42\n",
    "                            )"
   ]
  },
  {
   "cell_type": "code",
   "execution_count": 28,
   "id": "c74af71b-d363-4247-9d00-1f0259dfe7e1",
   "metadata": {},
   "outputs": [
    {
     "data": {
      "text/plain": [
       "(900, 3)"
      ]
     },
     "execution_count": 28,
     "metadata": {},
     "output_type": "execute_result"
    }
   ],
   "source": [
    "df_minority_upsample.shape"
   ]
  },
  {
   "cell_type": "code",
   "execution_count": 29,
   "id": "ef8131fe-47e2-4cd6-8a4f-d4d1673ee70f",
   "metadata": {},
   "outputs": [
    {
     "data": {
      "text/plain": [
       "feature_1  feature_2  target\n",
       " 2.043900  2.289980   1         19\n",
       " 2.544474  2.095308   1         18\n",
       "-0.192571  0.606920   1         18\n",
       " 1.157370  2.781408   1         16\n",
       " 3.767493  2.373888   1         16\n",
       "                                ..\n",
       " 3.571824  2.806820   1          4\n",
       " 3.529335  1.737718   1          4\n",
       " 2.586068  2.406844   1          4\n",
       " 4.049064  3.395138   1          4\n",
       " 2.833016  2.096360   1          3\n",
       "Length: 100, dtype: int64"
      ]
     },
     "execution_count": 29,
     "metadata": {},
     "output_type": "execute_result"
    }
   ],
   "source": [
    "df_minority_upsample.value_counts()"
   ]
  },
  {
   "cell_type": "code",
   "execution_count": 30,
   "id": "bd9be4fd-ffd5-488a-9a47-9953e5c1a15f",
   "metadata": {},
   "outputs": [],
   "source": [
    "df_upsampled=pd.concat([df_majority,df_minority_upsample])"
   ]
  },
  {
   "cell_type": "code",
   "execution_count": 31,
   "id": "b6a4e3b2-3a22-4970-b54d-444a036a5979",
   "metadata": {},
   "outputs": [
    {
     "data": {
      "text/plain": [
       "0    900\n",
       "1    900\n",
       "Name: target, dtype: int64"
      ]
     },
     "execution_count": 31,
     "metadata": {},
     "output_type": "execute_result"
    }
   ],
   "source": [
    "df_upsampled['target'].value_counts()"
   ]
  },
  {
   "cell_type": "code",
   "execution_count": 33,
   "id": "385b211a-71b2-484e-a00e-d7429f0a1fb8",
   "metadata": {},
   "outputs": [
    {
     "data": {
      "text/html": [
       "<div>\n",
       "<style scoped>\n",
       "    .dataframe tbody tr th:only-of-type {\n",
       "        vertical-align: middle;\n",
       "    }\n",
       "\n",
       "    .dataframe tbody tr th {\n",
       "        vertical-align: top;\n",
       "    }\n",
       "\n",
       "    .dataframe thead th {\n",
       "        text-align: right;\n",
       "    }\n",
       "</style>\n",
       "<table border=\"1\" class=\"dataframe\">\n",
       "  <thead>\n",
       "    <tr style=\"text-align: right;\">\n",
       "      <th></th>\n",
       "      <th>feature_1</th>\n",
       "      <th>feature_2</th>\n",
       "      <th>target</th>\n",
       "    </tr>\n",
       "  </thead>\n",
       "  <tbody>\n",
       "    <tr>\n",
       "      <th>0</th>\n",
       "      <td>-2.643425</td>\n",
       "      <td>-0.093436</td>\n",
       "      <td>0</td>\n",
       "    </tr>\n",
       "    <tr>\n",
       "      <th>1</th>\n",
       "      <td>-0.448991</td>\n",
       "      <td>1.650653</td>\n",
       "      <td>0</td>\n",
       "    </tr>\n",
       "    <tr>\n",
       "      <th>2</th>\n",
       "      <td>-0.358907</td>\n",
       "      <td>-0.845004</td>\n",
       "      <td>0</td>\n",
       "    </tr>\n",
       "    <tr>\n",
       "      <th>3</th>\n",
       "      <td>0.133194</td>\n",
       "      <td>0.395839</td>\n",
       "      <td>0</td>\n",
       "    </tr>\n",
       "    <tr>\n",
       "      <th>4</th>\n",
       "      <td>-0.644242</td>\n",
       "      <td>-1.342092</td>\n",
       "      <td>0</td>\n",
       "    </tr>\n",
       "  </tbody>\n",
       "</table>\n",
       "</div>"
      ],
      "text/plain": [
       "   feature_1  feature_2  target\n",
       "0  -2.643425  -0.093436       0\n",
       "1  -0.448991   1.650653       0\n",
       "2  -0.358907  -0.845004       0\n",
       "3   0.133194   0.395839       0\n",
       "4  -0.644242  -1.342092       0"
      ]
     },
     "execution_count": 33,
     "metadata": {},
     "output_type": "execute_result"
    }
   ],
   "source": [
    "df_upsampled.head()"
   ]
  },
  {
   "cell_type": "code",
   "execution_count": 34,
   "id": "95545867-4737-48c6-b663-876ff6345242",
   "metadata": {},
   "outputs": [
    {
     "data": {
      "text/html": [
       "<div>\n",
       "<style scoped>\n",
       "    .dataframe tbody tr th:only-of-type {\n",
       "        vertical-align: middle;\n",
       "    }\n",
       "\n",
       "    .dataframe tbody tr th {\n",
       "        vertical-align: top;\n",
       "    }\n",
       "\n",
       "    .dataframe thead th {\n",
       "        text-align: right;\n",
       "    }\n",
       "</style>\n",
       "<table border=\"1\" class=\"dataframe\">\n",
       "  <thead>\n",
       "    <tr style=\"text-align: right;\">\n",
       "      <th></th>\n",
       "      <th>feature_1</th>\n",
       "      <th>feature_2</th>\n",
       "      <th>target</th>\n",
       "    </tr>\n",
       "  </thead>\n",
       "  <tbody>\n",
       "    <tr>\n",
       "      <th>952</th>\n",
       "      <td>1.421568</td>\n",
       "      <td>1.825104</td>\n",
       "      <td>1</td>\n",
       "    </tr>\n",
       "    <tr>\n",
       "      <th>965</th>\n",
       "      <td>0.731857</td>\n",
       "      <td>3.333514</td>\n",
       "      <td>1</td>\n",
       "    </tr>\n",
       "    <tr>\n",
       "      <th>976</th>\n",
       "      <td>1.344610</td>\n",
       "      <td>0.993064</td>\n",
       "      <td>1</td>\n",
       "    </tr>\n",
       "    <tr>\n",
       "      <th>942</th>\n",
       "      <td>2.888538</td>\n",
       "      <td>2.257259</td>\n",
       "      <td>1</td>\n",
       "    </tr>\n",
       "    <tr>\n",
       "      <th>974</th>\n",
       "      <td>2.651029</td>\n",
       "      <td>0.867834</td>\n",
       "      <td>1</td>\n",
       "    </tr>\n",
       "  </tbody>\n",
       "</table>\n",
       "</div>"
      ],
      "text/plain": [
       "     feature_1  feature_2  target\n",
       "952   1.421568   1.825104       1\n",
       "965   0.731857   3.333514       1\n",
       "976   1.344610   0.993064       1\n",
       "942   2.888538   2.257259       1\n",
       "974   2.651029   0.867834       1"
      ]
     },
     "execution_count": 34,
     "metadata": {},
     "output_type": "execute_result"
    }
   ],
   "source": [
    "df_upsampled.tail()"
   ]
  },
  {
   "cell_type": "code",
   "execution_count": 35,
   "id": "14489f5e-5b5f-4abc-8d47-a6c20cf35bc0",
   "metadata": {},
   "outputs": [
    {
     "data": {
      "text/plain": [
       "(1800, 3)"
      ]
     },
     "execution_count": 35,
     "metadata": {},
     "output_type": "execute_result"
    }
   ],
   "source": [
    "df_upsampled.shape"
   ]
  },
  {
   "cell_type": "markdown",
   "id": "aedd5e7a-9797-49e6-98a5-66dc9897419e",
   "metadata": {},
   "source": [
    "### Downsampling"
   ]
  },
  {
   "cell_type": "code",
   "execution_count": 36,
   "id": "26d5614e-3fe6-4395-92e5-508264ba72b2",
   "metadata": {},
   "outputs": [],
   "source": [
    "class_0 = pd.DataFrame({\n",
    "    'feature_1': np.random.normal(loc=0, scale=1, size=n_class_0),\n",
    "    'feature_2': np.random.normal(loc=0, scale=1, size=n_class_0),\n",
    "    'target': [0] * n_class_0\n",
    "})\n",
    "\n",
    "class_1 = pd.DataFrame({\n",
    "    'feature_1': np.random.normal(loc=2, scale=1, size=n_class_l),\n",
    "    'feature_2': np.random.normal(loc=2, scale=1, size=n_class_l),\n",
    "    'target': [1] * n_class_l\n",
    "})"
   ]
  },
  {
   "cell_type": "code",
   "execution_count": 37,
   "id": "82431e45-5129-4338-bf5f-840fc03efe5c",
   "metadata": {},
   "outputs": [],
   "source": [
    "df=pd.concat([class_0,class_1]).reset_index(drop=True)"
   ]
  },
  {
   "cell_type": "code",
   "execution_count": 39,
   "id": "874abe71-c451-4aa3-bc13-4287e39c0123",
   "metadata": {},
   "outputs": [],
   "source": [
    "df_minority=df[df['target']==1]\n",
    "df_majority=df[df['target']==0]"
   ]
  },
  {
   "cell_type": "code",
   "execution_count": 41,
   "id": "d5d9e1c4-ce4e-4a5d-a1d2-0707c8b068ca",
   "metadata": {},
   "outputs": [],
   "source": [
    "df_majority_downsample=resample(df_minority, \n",
    "                            replace=False, ## Sample with replacement\n",
    "                            n_samples=len(df_minority),\n",
    "                            random_state=42\n",
    "                            )"
   ]
  },
  {
   "cell_type": "code",
   "execution_count": 43,
   "id": "ba2a3012-1f78-40fe-9d2f-1d785dfed809",
   "metadata": {},
   "outputs": [
    {
     "data": {
      "text/plain": [
       "(100, 3)"
      ]
     },
     "execution_count": 43,
     "metadata": {},
     "output_type": "execute_result"
    }
   ],
   "source": [
    "df_majority_downsample.shape"
   ]
  },
  {
   "cell_type": "code",
   "execution_count": 49,
   "id": "3a791f2d-55ab-453e-850c-7ce7f21ebff7",
   "metadata": {},
   "outputs": [],
   "source": [
    "df_downsample=pd.concat([df_minority, df_majority_downsample])"
   ]
  },
  {
   "cell_type": "code",
   "execution_count": 50,
   "id": "73b6c85e-5d77-430e-81cb-1fdc2e9b9145",
   "metadata": {},
   "outputs": [
    {
     "data": {
      "text/plain": [
       "1    200\n",
       "Name: target, dtype: int64"
      ]
     },
     "execution_count": 50,
     "metadata": {},
     "output_type": "execute_result"
    }
   ],
   "source": [
    "df_downsample['target'].value_counts()"
   ]
  },
  {
   "cell_type": "code",
   "execution_count": null,
   "id": "7a9d43e3-9920-4786-bdbd-33f8be609a69",
   "metadata": {},
   "outputs": [],
   "source": []
  }
 ],
 "metadata": {
  "kernelspec": {
   "display_name": "Python 3 (ipykernel)",
   "language": "python",
   "name": "python3"
  },
  "language_info": {
   "codemirror_mode": {
    "name": "ipython",
    "version": 3
   },
   "file_extension": ".py",
   "mimetype": "text/x-python",
   "name": "python",
   "nbconvert_exporter": "python",
   "pygments_lexer": "ipython3",
   "version": "3.10.8"
  }
 },
 "nbformat": 4,
 "nbformat_minor": 5
}
